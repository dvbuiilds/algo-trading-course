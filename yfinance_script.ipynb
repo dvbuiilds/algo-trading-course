{
 "cells": [
  {
   "cell_type": "code",
   "execution_count": 2,
   "metadata": {},
   "outputs": [],
   "source": [
    "import yfinance as yf"
   ]
  },
  {
   "cell_type": "code",
   "execution_count": 4,
   "metadata": {},
   "outputs": [
    {
     "name": "stdout",
     "output_type": "stream",
     "text": [
      "[*********************100%***********************]  1 of 1 completed\n"
     ]
    }
   ],
   "source": [
    "data = yf.download('MSFT', period='1mo', interval='5m')"
   ]
  },
  {
   "cell_type": "code",
   "execution_count": null,
   "metadata": {},
   "outputs": [],
   "source": [
    "data"
   ]
  },
  {
   "cell_type": "code",
   "execution_count": 4,
   "metadata": {},
   "outputs": [],
   "source": [
    "import datetime as dt\n",
    "import yfinance as yf\n",
    "import pandas as pd"
   ]
  },
  {
   "cell_type": "code",
   "execution_count": 5,
   "metadata": {},
   "outputs": [],
   "source": [
    "stocks = ['AMZN', 'MSFT', 'INTC', 'GOOG', 'INFY.NS', '3988.HK']\n",
    "start = dt.datetime.today() - dt.timedelta(30)\n",
    "end = dt.datetime.today()\n",
    "\n",
    "# Empty dataframe that will be filled with \n",
    "cl_price = pd.DataFrame()"
   ]
  },
  {
   "cell_type": "code",
   "execution_count": 8,
   "metadata": {},
   "outputs": [
    {
     "name": "stdout",
     "output_type": "stream",
     "text": [
      "[*********************100%***********************]  1 of 1 completed\n",
      "[*********************100%***********************]  1 of 1 completed\n",
      "[*********************100%***********************]  1 of 1 completed\n",
      "[*********************100%***********************]  1 of 1 completed\n",
      "[*********************100%***********************]  1 of 1 completed\n",
      "[*********************100%***********************]  1 of 1 completed\n"
     ]
    }
   ],
   "source": [
    "for ticker in stocks:\n",
    "    cl_price[ticker] = yf.download(ticker, start, end)['Adj Close']"
   ]
  },
  {
   "cell_type": "code",
   "execution_count": null,
   "metadata": {},
   "outputs": [],
   "source": [
    "cl_price"
   ]
  },
  {
   "cell_type": "code",
   "execution_count": 10,
   "metadata": {},
   "outputs": [],
   "source": [
    "ohlcv_data = dict()"
   ]
  },
  {
   "cell_type": "code",
   "execution_count": 11,
   "metadata": {},
   "outputs": [
    {
     "name": "stdout",
     "output_type": "stream",
     "text": [
      "[*********************100%***********************]  1 of 1 completed\n",
      "[*********************100%***********************]  1 of 1 completed\n",
      "[*********************100%***********************]  1 of 1 completed\n",
      "[*********************100%***********************]  1 of 1 completed\n",
      "[*********************100%***********************]  1 of 1 completed\n",
      "[*********************100%***********************]  1 of 1 completed\n"
     ]
    }
   ],
   "source": [
    "for ticker in stocks:\n",
    "    ohlcv_data[ticker] = yf.download(ticker, start, end)"
   ]
  },
  {
   "cell_type": "code",
   "execution_count": null,
   "metadata": {},
   "outputs": [],
   "source": [
    "ohlcv_data"
   ]
  },
  {
   "cell_type": "code",
   "execution_count": 13,
   "metadata": {},
   "outputs": [],
   "source": [
    "from alpha_vantage.timeseries import TimeSeries"
   ]
  },
  {
   "cell_type": "code",
   "execution_count": 22,
   "metadata": {},
   "outputs": [],
   "source": [
    "import os\n",
    "from dotenv import load_dotenv\n",
    "load_dotenv()\n",
    "import time"
   ]
  },
  {
   "cell_type": "code",
   "execution_count": null,
   "metadata": {},
   "outputs": [],
   "source": [
    "API_KEY = os.environ.get('API_KEY')\n",
    "print(API_KEY)"
   ]
  },
  {
   "cell_type": "code",
   "execution_count": 19,
   "metadata": {},
   "outputs": [
    {
     "name": "stdout",
     "output_type": "stream",
     "text": [
      "(            1. open  2. high  3. low  4. close   5. volume\n",
      "date                                                      \n",
      "2023-08-01   335.19  338.540  333.70    336.34  18381253.0\n",
      "2023-07-31   336.92  337.695  333.36    335.92  25446022.0\n",
      "2023-07-28   333.67  340.010  333.17    338.37  28484868.0\n",
      "2023-07-27   340.48  341.330  329.05    330.72  39635262.0\n",
      "2023-07-26   341.44  344.670  333.11    337.77  58383702.0\n",
      "...             ...      ...     ...       ...         ...\n",
      "1999-11-05    91.81   92.870   90.50     91.56  35083700.0\n",
      "1999-11-04    92.31   92.750   90.31     91.75  27119700.0\n",
      "1999-11-03    92.94   93.500   91.50     92.00  22258500.0\n",
      "1999-11-02    92.75   94.500   91.94     92.56  23174500.0\n",
      "1999-11-01    93.25   94.190   92.12     92.37  26630600.0\n",
      "\n",
      "[5975 rows x 5 columns], {'1. Information': 'Daily Prices (open, high, low, close) and Volumes', '2. Symbol': 'MSFT', '3. Last Refreshed': '2023-08-01', '4. Output Size': 'Full size', '5. Time Zone': 'US/Eastern'})\n",
      "\n",
      "            1. open  2. high  3. low  4. close   5. volume\n",
      "date                                                      \n",
      "2023-08-01   335.19  338.540  333.70    336.34  18381253.0\n",
      "2023-07-31   336.92  337.695  333.36    335.92  25446022.0\n",
      "2023-07-28   333.67  340.010  333.17    338.37  28484868.0\n",
      "2023-07-27   340.48  341.330  329.05    330.72  39635262.0\n",
      "2023-07-26   341.44  344.670  333.11    337.77  58383702.0\n",
      "...             ...      ...     ...       ...         ...\n",
      "1999-11-05    91.81   92.870   90.50     91.56  35083700.0\n",
      "1999-11-04    92.31   92.750   90.31     91.75  27119700.0\n",
      "1999-11-03    92.94   93.500   91.50     92.00  22258500.0\n",
      "1999-11-02    92.75   94.500   91.94     92.56  23174500.0\n",
      "1999-11-01    93.25   94.190   92.12     92.37  26630600.0\n",
      "\n",
      "[5975 rows x 5 columns]\n",
      "\n"
     ]
    }
   ],
   "source": [
    "ts = TimeSeries(key=API_KEY, output_format='pandas')\n",
    "data = ts.get_daily(symbol='MSFT', outputsize = 'full')\n",
    "print(data)\n",
    "print()\n",
    "data = data[0]\n",
    "print(data)\n",
    "print()\n",
    "data.columns = ['open', 'high', 'low', 'close', 'volume']"
   ]
  },
  {
   "cell_type": "code",
   "execution_count": 21,
   "metadata": {},
   "outputs": [],
   "source": [
    "close_prices = pd.DataFrame()\n",
    "api_call_count = 0"
   ]
  },
  {
   "cell_type": "code",
   "execution_count": null,
   "metadata": {},
   "outputs": [],
   "source": [
    "for ticker in stocks:\n",
    "    start_time = time.time()\n",
    "    ts = TimeSeries(key=API_KEY, output_format='pandas')\n",
    "    data = ts.get_intraday(symbol=ticker, interval='1min', outputsize='compact')[0]\n",
    "    data.columns = ['open', 'high', 'low', 'close', 'volume']\n",
    "    close_prices[ticker] = data['close']\n",
    "    api_call_count += 1\n",
    "    if(api_call_count == 5):\n",
    "        api_call_count = 0\n",
    "        time.sleep(60 - (time.time()-start_time))"
   ]
  },
  {
   "cell_type": "code",
   "execution_count": 24,
   "metadata": {},
   "outputs": [
    {
     "data": {
      "text/html": [
       "<div>\n",
       "<style scoped>\n",
       "    .dataframe tbody tr th:only-of-type {\n",
       "        vertical-align: middle;\n",
       "    }\n",
       "\n",
       "    .dataframe tbody tr th {\n",
       "        vertical-align: top;\n",
       "    }\n",
       "\n",
       "    .dataframe thead th {\n",
       "        text-align: right;\n",
       "    }\n",
       "</style>\n",
       "<table border=\"1\" class=\"dataframe\">\n",
       "  <thead>\n",
       "    <tr style=\"text-align: right;\">\n",
       "      <th></th>\n",
       "      <th>AMZN</th>\n",
       "      <th>MSFT</th>\n",
       "      <th>INTC</th>\n",
       "      <th>GOOG</th>\n",
       "    </tr>\n",
       "    <tr>\n",
       "      <th>date</th>\n",
       "      <th></th>\n",
       "      <th></th>\n",
       "      <th></th>\n",
       "      <th></th>\n",
       "    </tr>\n",
       "  </thead>\n",
       "  <tbody>\n",
       "    <tr>\n",
       "      <th>2023-08-01 19:59:00</th>\n",
       "      <td>131.260</td>\n",
       "      <td>334.21</td>\n",
       "      <td>35.600</td>\n",
       "      <td>130.800</td>\n",
       "    </tr>\n",
       "    <tr>\n",
       "      <th>2023-08-01 19:58:00</th>\n",
       "      <td>131.300</td>\n",
       "      <td>334.22</td>\n",
       "      <td>35.580</td>\n",
       "      <td>130.810</td>\n",
       "    </tr>\n",
       "    <tr>\n",
       "      <th>2023-08-01 19:57:00</th>\n",
       "      <td>131.450</td>\n",
       "      <td>334.24</td>\n",
       "      <td>35.620</td>\n",
       "      <td>130.800</td>\n",
       "    </tr>\n",
       "    <tr>\n",
       "      <th>2023-08-01 19:56:00</th>\n",
       "      <td>131.360</td>\n",
       "      <td>334.16</td>\n",
       "      <td>35.580</td>\n",
       "      <td>130.810</td>\n",
       "    </tr>\n",
       "    <tr>\n",
       "      <th>2023-08-01 19:55:00</th>\n",
       "      <td>131.300</td>\n",
       "      <td>334.30</td>\n",
       "      <td>35.590</td>\n",
       "      <td>130.840</td>\n",
       "    </tr>\n",
       "    <tr>\n",
       "      <th>...</th>\n",
       "      <td>...</td>\n",
       "      <td>...</td>\n",
       "      <td>...</td>\n",
       "      <td>...</td>\n",
       "    </tr>\n",
       "    <tr>\n",
       "      <th>2023-08-01 18:24:00</th>\n",
       "      <td>131.100</td>\n",
       "      <td>333.75</td>\n",
       "      <td>35.580</td>\n",
       "      <td>130.510</td>\n",
       "    </tr>\n",
       "    <tr>\n",
       "      <th>2023-08-01 18:23:00</th>\n",
       "      <td>131.190</td>\n",
       "      <td>333.69</td>\n",
       "      <td>35.640</td>\n",
       "      <td>130.590</td>\n",
       "    </tr>\n",
       "    <tr>\n",
       "      <th>2023-08-01 18:22:00</th>\n",
       "      <td>131.190</td>\n",
       "      <td>333.28</td>\n",
       "      <td>35.620</td>\n",
       "      <td>130.520</td>\n",
       "    </tr>\n",
       "    <tr>\n",
       "      <th>2023-08-01 18:21:00</th>\n",
       "      <td>131.215</td>\n",
       "      <td>333.77</td>\n",
       "      <td>35.630</td>\n",
       "      <td>130.392</td>\n",
       "    </tr>\n",
       "    <tr>\n",
       "      <th>2023-08-01 18:20:00</th>\n",
       "      <td>131.250</td>\n",
       "      <td>333.91</td>\n",
       "      <td>35.603</td>\n",
       "      <td>130.500</td>\n",
       "    </tr>\n",
       "  </tbody>\n",
       "</table>\n",
       "<p>100 rows × 4 columns</p>\n",
       "</div>"
      ],
      "text/plain": [
       "                        AMZN    MSFT    INTC     GOOG\n",
       "date                                                 \n",
       "2023-08-01 19:59:00  131.260  334.21  35.600  130.800\n",
       "2023-08-01 19:58:00  131.300  334.22  35.580  130.810\n",
       "2023-08-01 19:57:00  131.450  334.24  35.620  130.800\n",
       "2023-08-01 19:56:00  131.360  334.16  35.580  130.810\n",
       "2023-08-01 19:55:00  131.300  334.30  35.590  130.840\n",
       "...                      ...     ...     ...      ...\n",
       "2023-08-01 18:24:00  131.100  333.75  35.580  130.510\n",
       "2023-08-01 18:23:00  131.190  333.69  35.640  130.590\n",
       "2023-08-01 18:22:00  131.190  333.28  35.620  130.520\n",
       "2023-08-01 18:21:00  131.215  333.77  35.630  130.392\n",
       "2023-08-01 18:20:00  131.250  333.91  35.603  130.500\n",
       "\n",
       "[100 rows x 4 columns]"
      ]
     },
     "execution_count": 24,
     "metadata": {},
     "output_type": "execute_result"
    }
   ],
   "source": [
    "close_prices"
   ]
  },
  {
   "cell_type": "code",
   "execution_count": null,
   "metadata": {},
   "outputs": [],
   "source": []
  }
 ],
 "metadata": {
  "kernelspec": {
   "display_name": ".venv",
   "language": "python",
   "name": "python3"
  },
  "language_info": {
   "codemirror_mode": {
    "name": "ipython",
    "version": 3
   },
   "file_extension": ".py",
   "mimetype": "text/x-python",
   "name": "python",
   "nbconvert_exporter": "python",
   "pygments_lexer": "ipython3",
   "version": "3.10.12"
  },
  "orig_nbformat": 4
 },
 "nbformat": 4,
 "nbformat_minor": 2
}
